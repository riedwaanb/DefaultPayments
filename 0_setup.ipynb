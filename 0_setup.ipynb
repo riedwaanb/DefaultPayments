{
 "cells": [
  {
   "cell_type": "markdown",
   "metadata": {},
   "source": [
    "# Setup Environment\n",
    "This notebook sets up the rest of the demonstration used to create and deploy a Azure Machine Learning Model (Classification).\n",
    "\n",
    "**Data Used:**\n",
    "The notebook uses the following Credit card Payment Default data: https://archive.ics.uci.edu/ml/datasets/default+of+credit+card+clients"
   ]
  },
  {
   "cell_type": "markdown",
   "metadata": {},
   "source": [
    "### Check AzureML SDK\n",
    "Ensure we have a properly installed SDK"
   ]
  },
  {
   "cell_type": "code",
   "execution_count": 1,
   "metadata": {},
   "outputs": [
    {
     "name": "stdout",
     "output_type": "stream",
     "text": [
      "1.2.0\n"
     ]
    }
   ],
   "source": [
    "import azureml.core\n",
    "print(azureml.core.VERSION)"
   ]
  },
  {
   "cell_type": "markdown",
   "metadata": {},
   "source": [
    "### Get Subscription details\n",
    "If you don't know what it is, you can get it from the Azure Command Line Interface (CLI). \n",
    "To install the Azure CLI see https://docs.microsoft.com/en-us/cli/azure/install-azure-cli"
   ]
  },
  {
   "cell_type": "code",
   "execution_count": 2,
   "metadata": {},
   "outputs": [
    {
     "name": "stdout",
     "output_type": "stream",
     "text": [
      "Found Tenant ID: b9f1c816-0637-419c-b0f6-a8392690c7aa\n",
      "Found Subscription ID: b9f1c816-0637-419c-b0f6-a8392690c7aa\n"
     ]
    }
   ],
   "source": [
    "result=!az account show -s \"Microsoft Azure Internal Consumption\" --query id -o tsv\n",
    "tenant_id=result[0]\n",
    "print(f\"Found Tenant ID: {tenant_id}\")\n",
    "\n",
    "result=!az account show -s \"Microsoft Azure Internal Consumption\" --query id -o tsv\n",
    "subscription_id=result[0]\n",
    "print(f\"Found Subscription ID: {subscription_id}\")"
   ]
  },
  {
   "cell_type": "code",
   "execution_count": 8,
   "metadata": {},
   "outputs": [],
   "source": [
    "workspace_name     = \"paydmlws91\"\n",
    "resource_group     = \"paydmlrg91\"\n",
    "dc_region_location = \"westeurope\"\n",
    "sku                = \"enterprise\"     # basic or enterprise\n",
    "friendly_name      = \"My Workspace\"   # Displayed in the Workspace"
   ]
  },
  {
   "cell_type": "markdown",
   "metadata": {},
   "source": [
    "### Create a Workspace\n",
    "For more information see: https://github.com/Azure/MachineLearningNotebooks/blob/master/how-to-use-azureml/manage-azureml-service/authentication-in-azureml/authentication-in-azureml.ipynb"
   ]
  },
  {
   "cell_type": "code",
   "execution_count": 3,
   "metadata": {},
   "outputs": [
    {
     "name": "stderr",
     "output_type": "stream",
     "text": [
      "UserWarning: The resource group doesn't exist or was not provided. AzureML SDK is creating a resource group=paydmlrg91 in location=westeurope using subscription=b9f1c816-0637-419c-b0f6-a8392690c7aa.\n"
     ]
    },
    {
     "name": "stdout",
     "output_type": "stream",
     "text": [
      "Deploying AppInsights with name paydmlwsinsights5f59ee04.\n",
      "Deployed AppInsights with name paydmlwsinsights5f59ee04. Took 10.9 seconds.\n",
      "Deploying KeyVault with name paydmlwskeyvault97552fb6.\n",
      "Deploying StorageAccount with name paydmlwsstorage944bdd9b3.\n",
      "Deployed KeyVault with name paydmlwskeyvault97552fb6. Took 24.99 seconds.\n",
      "Deployed StorageAccount with name paydmlwsstorage944bdd9b3. Took 34.69 seconds.\n",
      "Deploying Workspace with name paydmlws91.\n",
      "Deployed Workspace with name paydmlws91. Took 33.56 seconds.\n"
     ]
    },
    {
     "data": {
      "text/html": [
       "<div>\n",
       "<style scoped>\n",
       "    .dataframe tbody tr th:only-of-type {\n",
       "        vertical-align: middle;\n",
       "    }\n",
       "\n",
       "    .dataframe tbody tr th {\n",
       "        vertical-align: top;\n",
       "    }\n",
       "\n",
       "    .dataframe thead th {\n",
       "        text-align: right;\n",
       "    }\n",
       "</style>\n",
       "<table border=\"1\" class=\"dataframe\">\n",
       "  <thead>\n",
       "    <tr style=\"text-align: right;\">\n",
       "      <th></th>\n",
       "      <th></th>\n",
       "    </tr>\n",
       "  </thead>\n",
       "  <tbody>\n",
       "    <tr>\n",
       "      <th>SDK version</th>\n",
       "      <td>1.2.0</td>\n",
       "    </tr>\n",
       "    <tr>\n",
       "      <th>Subscription ID</th>\n",
       "      <td>b9f1c816-0637-419c-b0f6-a8392690c7aa</td>\n",
       "    </tr>\n",
       "    <tr>\n",
       "      <th>Workspace</th>\n",
       "      <td>paydmlws91</td>\n",
       "    </tr>\n",
       "    <tr>\n",
       "      <th>Resource Group</th>\n",
       "      <td>paydmlrg91</td>\n",
       "    </tr>\n",
       "    <tr>\n",
       "      <th>Location</th>\n",
       "      <td>westeurope</td>\n",
       "    </tr>\n",
       "  </tbody>\n",
       "</table>\n",
       "</div>"
      ],
      "text/plain": [
       "                                                     \n",
       "SDK version      1.2.0                               \n",
       "Subscription ID  b9f1c816-0637-419c-b0f6-a8392690c7aa\n",
       "Workspace        paydmlws91                          \n",
       "Resource Group   paydmlrg91                          \n",
       "Location         westeurope                          "
      ]
     },
     "execution_count": 3,
     "metadata": {},
     "output_type": "execute_result"
    }
   ],
   "source": [
    "from azureml.core.authentication import AzureCliAuthentication\n",
    "from azureml.core.workspace import Workspace\n",
    "import pandas as pd\n",
    "\n",
    "cli_auth = AzureCliAuthentication()\n",
    "\n",
    "ws = Workspace.create(name=workspace_name,\n",
    "                      subscription_id=subscription_id,\n",
    "                      resource_group=resource_group,\n",
    "                      location=dc_region_location,\n",
    "                      auth=cli_auth, \n",
    "                      sku=sku)\n",
    "\n",
    "ws.write_config()      # Save Workspace config file\n",
    "\n",
    "output = {}\n",
    "output['SDK version'] = azureml.core.VERSION\n",
    "output['Subscription ID'] = ws.subscription_id\n",
    "output['Workspace'] = ws.name\n",
    "output['Resource Group'] = ws.resource_group\n",
    "output['Location'] = ws.location\n",
    "pd.set_option('display.max_colwidth', -1)\n",
    "outputDf = pd.DataFrame(data = output, index = [''])\n",
    "outputDf.T"
   ]
  },
  {
   "cell_type": "code",
   "execution_count": 5,
   "metadata": {},
   "outputs": [
    {
     "data": {
      "text/html": [
       "<div>\n",
       "<style scoped>\n",
       "    .dataframe tbody tr th:only-of-type {\n",
       "        vertical-align: middle;\n",
       "    }\n",
       "\n",
       "    .dataframe tbody tr th {\n",
       "        vertical-align: top;\n",
       "    }\n",
       "\n",
       "    .dataframe thead th {\n",
       "        text-align: right;\n",
       "    }\n",
       "</style>\n",
       "<table border=\"1\" class=\"dataframe\">\n",
       "  <thead>\n",
       "    <tr style=\"text-align: right;\">\n",
       "      <th></th>\n",
       "      <th></th>\n",
       "    </tr>\n",
       "  </thead>\n",
       "  <tbody>\n",
       "    <tr>\n",
       "      <th>SDK version</th>\n",
       "      <td>1.2.0</td>\n",
       "    </tr>\n",
       "    <tr>\n",
       "      <th>Subscription ID</th>\n",
       "      <td>b9f1c816-0637-419c-b0f6-a8392690c7aa</td>\n",
       "    </tr>\n",
       "    <tr>\n",
       "      <th>Workspace</th>\n",
       "      <td>paydmlws91</td>\n",
       "    </tr>\n",
       "    <tr>\n",
       "      <th>Resource Group</th>\n",
       "      <td>paydmlrg91</td>\n",
       "    </tr>\n",
       "    <tr>\n",
       "      <th>Location</th>\n",
       "      <td>westeurope</td>\n",
       "    </tr>\n",
       "  </tbody>\n",
       "</table>\n",
       "</div>"
      ],
      "text/plain": [
       "                                                     \n",
       "SDK version      1.2.0                               \n",
       "Subscription ID  b9f1c816-0637-419c-b0f6-a8392690c7aa\n",
       "Workspace        paydmlws91                          \n",
       "Resource Group   paydmlrg91                          \n",
       "Location         westeurope                          "
      ]
     },
     "execution_count": 5,
     "metadata": {},
     "output_type": "execute_result"
    }
   ],
   "source": [
    "from azureml.core.authentication import AzureCliAuthentication\n",
    "from azureml.core.workspace import Workspace\n",
    "import pandas as pd\n",
    "\n",
    "cli_auth = AzureCliAuthentication()\n",
    "ws = Workspace.from_config(auth=cli_auth)\n",
    "ws.get_details()\n",
    "\n",
    "output = {}\n",
    "output['SDK version'] = azureml.core.VERSION\n",
    "output['Subscription ID'] = ws.subscription_id\n",
    "output['Workspace'] = ws.name\n",
    "output['Resource Group'] = ws.resource_group\n",
    "output['Location'] = ws.location\n",
    "pd.set_option('display.max_colwidth', -1)\n",
    "outputDf = pd.DataFrame(data = output, index = [''])\n",
    "outputDf.T"
   ]
  },
  {
   "cell_type": "markdown",
   "metadata": {},
   "source": [
    "### Create Blob Storage for our Data \n",
    "For more information see: https://docs.microsoft.com/en-us/samples/azure-samples/storage-python-manage/storage-python-manage/#create-account"
   ]
  },
  {
   "cell_type": "code",
   "execution_count": 6,
   "metadata": {},
   "outputs": [],
   "source": [
    "from azure.mgmt.storage import StorageManagementClient\n",
    "\n",
    "storage_client = StorageManagementClient(cli_auth, subscription_id)"
   ]
  },
  {
   "cell_type": "code",
   "execution_count": 9,
   "metadata": {},
   "outputs": [
    {
     "name": "stdout",
     "output_type": "stream",
     "text": [
      "Creating : paydef20200402210911\n",
      "Done\n"
     ]
    }
   ],
   "source": [
    "import time\n",
    "from azure.mgmt.storage.models import StorageAccountCreateParameters\n",
    "from azure.mgmt.storage.models import Sku,Kind\n",
    "\n",
    "storage_client = StorageManagementClient(cli_auth, subscription_id)\n",
    "\n",
    "storage_prefix='paydef'\n",
    "storage_account_name = storage_prefix + time.strftime('%Y%m%d%H%M%S')\n",
    "\n",
    "print(f'Creating : {storage_account_name}')\n",
    "\n",
    "storage_async_operation = storage_client.storage_accounts.create(\n",
    "    resource_group,\n",
    "    storage_account_name,\n",
    "    StorageAccountCreateParameters(\n",
    "        sku=Sku(name='Standard_LRS'),\n",
    "        kind=Kind.storage,\n",
    "        location=dc_region_location\n",
    "    )\n",
    ")\n",
    "storage_account = storage_async_operation.result()\n",
    "print('Done')"
   ]
  },
  {
   "cell_type": "markdown",
   "metadata": {},
   "source": [
    "### Create a Container in the Storage Account"
   ]
  },
  {
   "cell_type": "code",
   "execution_count": 10,
   "metadata": {},
   "outputs": [
    {
     "name": "stdout",
     "output_type": "stream",
     "text": [
      "Created Container: payments\n"
     ]
    }
   ],
   "source": [
    "from azure.storage.blob import BlobServiceClient\n",
    "from azure.core.exceptions import ResourceExistsError\n",
    "\n",
    "container_name='payments'\n",
    "\n",
    "keys = storage_client.storage_accounts.list_keys(resource_group_name=resource_group,\n",
    "                                                 account_name=storage_account_name)\n",
    "account_key=keys.keys[0].value\n",
    "\n",
    "blob_client = BlobServiceClient(account_url=storage_account.primary_endpoints.blob, credential=account_key)\n",
    "\n",
    "try:\n",
    "    new_container = blob_client.create_container(container_name)\n",
    "    properties = new_container.get_container_properties()\n",
    "    print(f\"Created Container: {container_name}\")\n",
    "except ResourceExistsError:\n",
    "    print(\"Container already exists.\")"
   ]
  },
  {
   "cell_type": "markdown",
   "metadata": {},
   "source": [
    "### Register Blob Storage with the Azure ML Workspace"
   ]
  },
  {
   "cell_type": "code",
   "execution_count": 11,
   "metadata": {},
   "outputs": [
    {
     "name": "stdout",
     "output_type": "stream",
     "text": [
      "Registered ML blob datastore with name: payments_data\n"
     ]
    }
   ],
   "source": [
    "from azureml.core.datastore import Datastore\n",
    "from azureml.data.data_reference import DataReference\n",
    "from msrest.exceptions import HttpOperationError\n",
    "\n",
    "blobstore_name=container_name + '_data'  # friendly name\n",
    "\n",
    "try:\n",
    "    blob_datastore = Datastore.get(ws, blobstore_name)\n",
    "    print(f\"Found ML Blob Datastore with name: {blobstore_name}\")\n",
    "except HttpOperationError:\n",
    "    blob_datastore = Datastore.register_azure_blob_container(\n",
    "       workspace=ws,\n",
    "       datastore_name=blobstore_name,\n",
    "       account_name=storage_account_name, # Storage account name\n",
    "       container_name=container_name,     # Name of Azure blob container\n",
    "       account_key=account_key)           # Storage account key\n",
    "    print(f\"Registered ML blob datastore with name: {blobstore_name}\")"
   ]
  },
  {
   "cell_type": "markdown",
   "metadata": {},
   "source": [
    "### Use the Datastore to Upload the local files"
   ]
  },
  {
   "cell_type": "code",
   "execution_count": 14,
   "metadata": {},
   "outputs": [
    {
     "name": "stdout",
     "output_type": "stream",
     "text": [
      "Uploading an estimated of 4 files\n",
      "Uploading data/ml_scoring_input/UCI_Credit_Card_INPUT_1.csv\n",
      "Uploading data/ml_scoring_input/UCI_Credit_Card_INPUT_2.csv\n",
      "Uploading data/ml_scoring_input/UCI_Credit_Card_INPUT_3.csv\n",
      "Uploading data/ml_training/UCI_Credit_Card.csv\n",
      "Uploaded data/ml_scoring_input/UCI_Credit_Card_INPUT_1.csv, 1 files out of an estimated total of 4\n",
      "Uploaded data/ml_scoring_input/UCI_Credit_Card_INPUT_2.csv, 2 files out of an estimated total of 4\n",
      "Uploaded data/ml_scoring_input/UCI_Credit_Card_INPUT_3.csv, 3 files out of an estimated total of 4\n",
      "Uploaded data/ml_training/UCI_Credit_Card.csv, 4 files out of an estimated total of 4\n",
      "Uploaded 4 files\n",
      "Done.\n"
     ]
    }
   ],
   "source": [
    "files_2upload=['data/ml_scoring_input/UCI_Credit_Card_INPUT_1.csv',\n",
    "               'data/ml_scoring_input/UCI_Credit_Card_INPUT_2.csv',\n",
    "               'data/ml_scoring_input/UCI_Credit_Card_INPUT_3.csv',\n",
    "               'data/ml_training/UCI_Credit_Card.csv']\n",
    "\n",
    "dref = blob_datastore.upload_files(files_2upload,\n",
    "                                   overwrite=False,\n",
    "                                   show_progress=True) \n",
    "print(\"Done.\")"
   ]
  },
  {
   "cell_type": "markdown",
   "metadata": {},
   "source": [
    "### Register Dataset with Azure ML\n",
    "The Dataset makes it easier to:\n",
    "1. Access the data for training purposes later.\n",
    "2. It allows users to share datasets\n",
    "3. Link the Dataset to models for reference purposes\n",
    "\n",
    "For more info on Datasets see: https://docs.microsoft.com/en-us/python/api/azureml-core/azureml.core.dataset(class)"
   ]
  },
  {
   "cell_type": "code",
   "execution_count": 17,
   "metadata": {},
   "outputs": [],
   "source": [
    "from azureml.core import Dataset\n",
    "\n",
    "dataset_name='payment_data'\n",
    "input_data_path='ml_training/*.csv'\n",
    "\n",
    "dataset = Dataset.Tabular.from_delimited_files(path = [(blob_datastore, input_data_path)])\n",
    "\n",
    "dataset = dataset.register(workspace=ws,\n",
    "                           name=dataset_name,\n",
    "                           description='Default Payments Data')"
   ]
  },
  {
   "cell_type": "markdown",
   "metadata": {},
   "source": [
    "### Save the storage account details to Environment Vars\n",
    "This is not actually used going forward, but it is to illustrate a concept. We retrieve this name in the next notebook."
   ]
  },
  {
   "cell_type": "code",
   "execution_count": 20,
   "metadata": {},
   "outputs": [
    {
     "name": "stdout",
     "output_type": "stream",
     "text": [
      "Saved Storage Account Details to the Workspace KeyVault \n"
     ]
    }
   ],
   "source": [
    "keyvault = ws.get_default_keyvault()\n",
    "\n",
    "keyvault.set_secret(name=\"DATASTORENAME\", value = blobstore_name)\n",
    "keyvault.set_secret(name=\"DATASETNAME\", value = dataset_name)\n",
    "print('Saved Storage Account Details to the Workspace KeyVault ')"
   ]
  }
 ],
 "metadata": {
  "kernelspec": {
   "display_name": "Python 3",
   "language": "python",
   "name": "python3"
  },
  "language_info": {
   "codemirror_mode": {
    "name": "ipython",
    "version": 3
   },
   "file_extension": ".py",
   "mimetype": "text/x-python",
   "name": "python",
   "nbconvert_exporter": "python",
   "pygments_lexer": "ipython3",
   "version": "3.6.10"
  }
 },
 "nbformat": 4,
 "nbformat_minor": 4
}
